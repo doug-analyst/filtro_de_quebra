{
 "cells": [
  {
   "cell_type": "code",
   "execution_count": 1,
   "metadata": {},
   "outputs": [],
   "source": [
    "import pandas as pd"
   ]
  },
  {
   "cell_type": "code",
   "execution_count": 2,
   "metadata": {},
   "outputs": [],
   "source": [
    "def arq_csv(arquivo):\n",
    "    df = pd.read_csv(arquivo, sep = ';')\n",
    "    return df\n",
    "\n",
    "\n",
    "def arq_excel(arquivo):\n",
    "    df = pd.read_excel(arquivo)\n",
    "    return df"
   ]
  },
  {
   "cell_type": "code",
   "execution_count": 3,
   "metadata": {},
   "outputs": [],
   "source": [
    "excel = arq_excel('t.xls')"
   ]
  },
  {
   "cell_type": "code",
   "execution_count": null,
   "metadata": {},
   "outputs": [],
   "source": [
    "excel.columns = ['ID', 'PRODUTO', 'QUANTIDADE', 'TOTALCUSTO']\n",
    "excel[['TOTALCUSTO']].astype(float)\n",
    "excel.style.format({'TOTALCUSTO':'R$ {:,.2f}'})"
   ]
  },
  {
   "cell_type": "code",
   "execution_count": null,
   "metadata": {},
   "outputs": [],
   "source": [
    "excel"
   ]
  },
  {
   "cell_type": "code",
   "execution_count": null,
   "metadata": {},
   "outputs": [],
   "source": [
    "df = excel.groupby(by =['ID', 'PRODUTO']).sum().sort_values(by = ['TOTALCUSTO'], ascending=False)\n",
    "df.to_excel('romero.xls')"
   ]
  }
 ],
 "metadata": {
  "interpreter": {
   "hash": "49b345afca5973d695daabe40633caaffc385390f583e0a154a887039147954d"
  },
  "kernelspec": {
   "display_name": "Python 3.9.7 ('base')",
   "language": "python",
   "name": "python3"
  },
  "language_info": {
   "codemirror_mode": {
    "name": "ipython",
    "version": 3
   },
   "file_extension": ".py",
   "mimetype": "text/x-python",
   "name": "python",
   "nbconvert_exporter": "python",
   "pygments_lexer": "ipython3",
   "version": "3.9.7"
  },
  "orig_nbformat": 4
 },
 "nbformat": 4,
 "nbformat_minor": 2
}
